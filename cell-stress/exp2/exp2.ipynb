{
 "cells": [
  {
   "cell_type": "code",
   "execution_count": 6,
   "id": "5dde02d1-c783-488c-9d08-d267ca532083",
   "metadata": {},
   "outputs": [],
   "source": [
    "import pandas as pd\n",
    "import numpy as np\n",
    "import matplotlib.pyplot as plt"
   ]
  },
  {
   "cell_type": "code",
   "execution_count": 13,
   "id": "e58e2852-89e2-4942-a761-7780129980e6",
   "metadata": {},
   "outputs": [
    {
     "data": {
      "text/html": [
       "<div>\n",
       "<style scoped>\n",
       "    .dataframe tbody tr th:only-of-type {\n",
       "        vertical-align: middle;\n",
       "    }\n",
       "\n",
       "    .dataframe tbody tr th {\n",
       "        vertical-align: top;\n",
       "    }\n",
       "\n",
       "    .dataframe thead th {\n",
       "        text-align: right;\n",
       "    }\n",
       "</style>\n",
       "<table border=\"1\" class=\"dataframe\">\n",
       "  <thead>\n",
       "    <tr style=\"text-align: right;\">\n",
       "      <th></th>\n",
       "      <th>Location</th>\n",
       "      <th>First Count</th>\n",
       "      <th>Second Count</th>\n",
       "      <th>Third Count</th>\n",
       "      <th>Fourth Count</th>\n",
       "      <th>Fifth Count</th>\n",
       "    </tr>\n",
       "  </thead>\n",
       "  <tbody>\n",
       "    <tr>\n",
       "      <th>0</th>\n",
       "      <td>Top Left</td>\n",
       "      <td>35.0</td>\n",
       "      <td>35.0</td>\n",
       "      <td>42.0</td>\n",
       "      <td>24.00</td>\n",
       "      <td>29.00</td>\n",
       "    </tr>\n",
       "    <tr>\n",
       "      <th>1</th>\n",
       "      <td>Top Right</td>\n",
       "      <td>25.0</td>\n",
       "      <td>26.0</td>\n",
       "      <td>19.0</td>\n",
       "      <td>22.00</td>\n",
       "      <td>46.00</td>\n",
       "    </tr>\n",
       "    <tr>\n",
       "      <th>2</th>\n",
       "      <td>Bottom Left</td>\n",
       "      <td>25.0</td>\n",
       "      <td>21.0</td>\n",
       "      <td>21.0</td>\n",
       "      <td>30.00</td>\n",
       "      <td>49.00</td>\n",
       "    </tr>\n",
       "    <tr>\n",
       "      <th>3</th>\n",
       "      <td>Bottom Right</td>\n",
       "      <td>27.0</td>\n",
       "      <td>24.0</td>\n",
       "      <td>24.0</td>\n",
       "      <td>29.00</td>\n",
       "      <td>39.00</td>\n",
       "    </tr>\n",
       "    <tr>\n",
       "      <th>4</th>\n",
       "      <td>Average</td>\n",
       "      <td>28.0</td>\n",
       "      <td>26.5</td>\n",
       "      <td>26.5</td>\n",
       "      <td>26.25</td>\n",
       "      <td>40.75</td>\n",
       "    </tr>\n",
       "  </tbody>\n",
       "</table>\n",
       "</div>"
      ],
      "text/plain": [
       "       Location  First Count  Second Count  Third Count  Fourth Count  \\\n",
       "0      Top Left         35.0          35.0         42.0         24.00   \n",
       "1     Top Right         25.0          26.0         19.0         22.00   \n",
       "2   Bottom Left         25.0          21.0         21.0         30.00   \n",
       "3  Bottom Right         27.0          24.0         24.0         29.00   \n",
       "4       Average         28.0          26.5         26.5         26.25   \n",
       "\n",
       "   Fifth Count  \n",
       "0        29.00  \n",
       "1        46.00  \n",
       "2        49.00  \n",
       "3        39.00  \n",
       "4        40.75  "
      ]
     },
     "execution_count": 13,
     "metadata": {},
     "output_type": "execute_result"
    }
   ],
   "source": [
    "counted_cells = pd.DataFrame({\n",
    "    \"Location\": [\"Top Left\", \"Top Right\", \"Bottom Left\", \"Bottom Right\", \"Average\"],\n",
    "    \"First Count\": [35, 25, 25, 27, np.mean([35, 25, 25, 27])],\n",
    "    \"Second Count\": [35, 26, 21, 24, np.mean([35, 26, 21, 24])],\n",
    "    \"Third Count\": [42, 19, 21, 24, np.mean([42, 19, 21, 24])],\n",
    "    \"Fourth Count\": [24, 22, 30, 29, np.mean([24, 22, 30, 29])],\n",
    "    \"Fifth Count\": [29, 46, 49, 39, np.mean([29, 46, 49, 39])],\n",
    "    \n",
    "})\n",
    "counted_cells"
   ]
  },
  {
   "cell_type": "code",
   "execution_count": 14,
   "id": "f853fd17-ad90-4ed0-b082-043ed9a856af",
   "metadata": {},
   "outputs": [],
   "source": [
    "counted_cells.to_csv(\"counted-cells.csv\", index=False)"
   ]
  },
  {
   "cell_type": "code",
   "execution_count": null,
   "id": "55b8fafa-7365-459f-a244-cb3e89128e60",
   "metadata": {},
   "outputs": [],
   "source": []
  }
 ],
 "metadata": {
  "kernelspec": {
   "display_name": "Python 3 (ipykernel)",
   "language": "python",
   "name": "python3"
  },
  "language_info": {
   "codemirror_mode": {
    "name": "ipython",
    "version": 3
   },
   "file_extension": ".py",
   "mimetype": "text/x-python",
   "name": "python",
   "nbconvert_exporter": "python",
   "pygments_lexer": "ipython3",
   "version": "3.12.2"
  }
 },
 "nbformat": 4,
 "nbformat_minor": 5
}
