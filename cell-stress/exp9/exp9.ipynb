{
 "cells": [
  {
   "cell_type": "code",
   "execution_count": 1,
   "id": "2dd4fb2c-0bda-4b09-9d1b-b589c5185761",
   "metadata": {},
   "outputs": [],
   "source": [
    "import pandas as pd"
   ]
  },
  {
   "cell_type": "code",
   "execution_count": 2,
   "id": "344c2efd-e24d-4cb3-beed-83158cf210a0",
   "metadata": {},
   "outputs": [],
   "source": [
    "data = {\n",
    "    \"Cell Type\": [\"HeLa\", \"HCT116\"],\n",
    "    \"CASP3\": [0.12, 0.09],\n",
    "    \"CASP9\": [0.03, 0.008],\n",
    "    \"XIAP\": [0.063, 0.075],\n",
    "    \"mitoSMAC\": [0.126, 0.227],\n",
    "    \"APAF1\": [0.372, 0.47],\n",
    "    \"mitoCytC\": [10, 10],\n",
    "    \"Time (mins)\": [30, 30],\n",
    "    \"Figure Mode\": [1, 1],\n",
    "    \"MOMP (%)\": [100, 100],\n",
    "    \"Model Version\": [3, 3]\n",
    "}\n",
    "\n",
    "df = pd.DataFrame(data)\n",
    "df.to_csv('sim_data1.csv', index=False)"
   ]
  },
  {
   "cell_type": "code",
   "execution_count": 3,
   "id": "5e3aa4f2-2931-4ccc-b6a3-b083719ad510",
   "metadata": {},
   "outputs": [],
   "source": [
    "data = {\n",
    "    'Cell Type': ['HeLa', 'HeLa2', 'HeLa3', 'HeLa4', 'HeLa5'],\n",
    "    'CASP3': [0.12, 0.12, 0.12, 0.12, 0.12],\n",
    "    'CASP9': [0.03, 0.03, 0.03, 0.03, 0.03],\n",
    "    'XIAP': [0.063, 0.063, 0.063, 0.063, 0.063],\n",
    "    'mitoSMAC': [0.126, 0.126, 0.126, 0.126, 0.126],\n",
    "    'APAF1': [0.372, 0.372, 0.372, 0.372, 0.372],\n",
    "    'mitoCytC': [10, 10, 10, 10, 10],\n",
    "    'Time (mins)': [30, 30, 30, 30, 30],\n",
    "    'Figure Mode': [1, 2, 3, 4, 5],\n",
    "    'MOMP (%)': [100, 100, 100, 100, 100],\n",
    "    'Model Version': [3, 3, 3, 3, 3]\n",
    "}\n",
    "\n",
    "\n",
    "df = pd.DataFrame(data)\n",
    "\n",
    "df.to_csv('sim_data2.csv', index=False)"
   ]
  },
  {
   "cell_type": "code",
   "execution_count": 4,
   "id": "27d26aa4-81ce-4897-b6d0-2c467f9f2f3d",
   "metadata": {},
   "outputs": [],
   "source": [
    "data = {\n",
    "    'XIAP (µM)': [0.00, 0.05, 0.10, 0.15, 0.20, 0.25, 0.30, 0.35, 0.40],\n",
    "    'Cleaved Caspase-3 (%)': [90, 80, 70, 60, 50, 40, 30, 20, 10],\n",
    "    'Free Caspase-3 (%)': [10, 20, 30, 40, 50, 60, 70, 80, 90]\n",
    "}\n",
    "\n",
    "df = pd.DataFrame(data)\n",
    "\n",
    "df.to_csv('sim_data3.csv', index=False)"
   ]
  },
  {
   "cell_type": "code",
   "execution_count": 5,
   "id": "dcb7a1fa-2f19-440c-b979-826ad43231b0",
   "metadata": {},
   "outputs": [],
   "source": [
    "data = {\n",
    "    'Cell Type': ['HeLa']*3 + ['HCT116']*3,\n",
    "    'Standard Deviation (%)': [10, 20, 30]*2,\n",
    "    'Mean Substrate Cleavage (%)': [60, 55, 50, 65, 60, 55],\n",
    "    'Individual Traces (Examples)': [\n",
    "        [58, 62, 60], [52, 58, 55], [45, 55, 50],\n",
    "        [63, 67, 65], [57, 63, 60], [50, 60, 55]\n",
    "    ]\n",
    "}\n",
    "\n",
    "df = pd.DataFrame(data)\n",
    "\n",
    "df.to_csv('sim_data4.csv', index=False)"
   ]
  },
  {
   "cell_type": "code",
   "execution_count": 6,
   "id": "df964c77-89bf-4397-a463-ba4fdda552cd",
   "metadata": {},
   "outputs": [],
   "source": [
    "data = {\n",
    "    'Patient': [f'Patient {i}' for i in range(1, 21)],\n",
    "    'Caspase 3 Substrate Cleavage (%)': [\n",
    "        26.0, 24.0, 22.0, 15.0, 20.0, 10.0, 18.0, 12.0, 28.0, 16.0,\n",
    "        14.0, 23.0, 13.0, 17.0, 11.0, 30.0, 29.0, 19.0, 25.0, 21.0\n",
    "    ],\n",
    "    'Survival Time (months)': [\n",
    "        38.9, 35.2, 32.3, 32.2, 27.4, 9.5, 25.6, 25.7, 23.7, 26.9,\n",
    "        25.7, 33.5, 31.0, 32.0, 12.0, 28.4, 70.5, 20.0, 34.1, 25.9\n",
    "    ],\n",
    "    'Event': [0, 0, 0, 0, 0, 1, 1, 0, 1, 0, 0, 0, 1, 1, 1, 0, 0, 1, 0, 1],\n",
    "    'Group': ['Competent' if x > 25 else 'Resistant' for x in [\n",
    "        26.0, 24.0, 22.0, 15.0, 20.0, 10.0, 18.0, 12.0, 28.0, 16.0,\n",
    "        14.0, 23.0, 13.0, 17.0, 11.0, 30.0, 29.0, 19.0, 25.0, 21.0\n",
    "    ]]\n",
    "}\n",
    "\n",
    "df = pd.DataFrame(data)\n",
    "\n",
    "df.to_csv('sim_data5.csv', index=False)"
   ]
  },
  {
   "cell_type": "code",
   "execution_count": null,
   "id": "3e0779eb-6971-4512-906a-250daa17c191",
   "metadata": {},
   "outputs": [],
   "source": []
  }
 ],
 "metadata": {
  "kernelspec": {
   "display_name": "Python 3 (ipykernel)",
   "language": "python",
   "name": "python3"
  },
  "language_info": {
   "codemirror_mode": {
    "name": "ipython",
    "version": 3
   },
   "file_extension": ".py",
   "mimetype": "text/x-python",
   "name": "python",
   "nbconvert_exporter": "python",
   "pygments_lexer": "ipython3",
   "version": "3.12.2"
  }
 },
 "nbformat": 4,
 "nbformat_minor": 5
}
