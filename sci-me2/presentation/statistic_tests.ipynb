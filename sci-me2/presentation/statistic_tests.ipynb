{
 "cells": [
  {
   "cell_type": "code",
   "execution_count": 9,
   "id": "1f4c69d3",
   "metadata": {},
   "outputs": [
    {
     "name": "stdout",
     "output_type": "stream",
     "text": [
      "Chi-square test:\n",
      "  Test statistic:  0.0\n",
      "  p-value:  1.0\n",
      "  Degrees of freedom:  1\n",
      "  Expected frequencies: \n",
      "[[52.2  5.8]\n",
      " [37.8  4.2]]\n"
     ]
    }
   ],
   "source": [
    "import numpy as np\n",
    "from scipy.stats import chi2_contingency\n",
    "\n",
    "\n",
    "#Gender,  p-value:1.0\n",
    "# create a contingency table\n",
    "obs = np.array([[52, 6], [38, 4]])\n",
    "\n",
    "# perform chi-square test\n",
    "chi2, p_value, dof, expected = chi2_contingency(obs)\n",
    "\n",
    "# print the results\n",
    "print(\"Chi-square test:\")\n",
    "print(\"  Test statistic: \", chi2)\n",
    "print(\"  p-value: \", p_value)\n",
    "print(\"  Degrees of freedom: \", dof)\n",
    "print(\"  Expected frequencies: \")\n",
    "print(expected)"
   ]
  },
  {
   "cell_type": "code",
   "execution_count": 13,
   "id": "8dc74ee6",
   "metadata": {},
   "outputs": [
    {
     "name": "stdout",
     "output_type": "stream",
     "text": [
      "Chi-square statistic: 22.833008447043536\n",
      "p-value: 0.00013673338130962658\n"
     ]
    }
   ],
   "source": [
    "#Metastasis,  p-value:0.0001\n",
    "#we can perform a chi-square test of independence to determine if there\n",
    "#is a significant association between HER2 status and the presence of metastasis\n",
    "#in the liver and other organs.\n",
    "obs = np.array([[14, 1, 15], [4, 5, 9], [72, 4, 76]])\n",
    "\n",
    "# perform chi-square test of independence\n",
    "chi2, pval, dof, exp = chi2_contingency(obs)\n",
    "\n",
    "# print the results\n",
    "print(\"Chi-square statistic:\", chi2)\n",
    "print(\"p-value:\", pval)"
   ]
  },
  {
   "cell_type": "code",
   "execution_count": 14,
   "id": "e772c4af",
   "metadata": {},
   "outputs": [
    {
     "name": "stdout",
     "output_type": "stream",
     "text": [
      "Chi-squared test statistic: 2.2244921121325616\n",
      "p-value: 0.1358373193991518\n"
     ]
    }
   ],
   "source": [
    "#Patient vital status,  p-value:0.1358\n",
    "#To test the association between patient vital status and HER2 status,\n",
    "# we can use the chi-squared test for independence.\n",
    "\n",
    "# Create contingency table\n",
    "observed = np.array([[82, 7], [8, 3]])\n",
    "\n",
    "# Calculate chi-squared test statistic, p-value, degrees of freedom, and expected values\n",
    "chi2, p, dof, expected = chi2_contingency(observed)\n",
    "\n",
    "# Print results\n",
    "print(\"Chi-squared test statistic:\", chi2)\n",
    "print(\"p-value:\", p)"
   ]
  },
  {
   "cell_type": "code",
   "execution_count": 15,
   "id": "afda8726",
   "metadata": {},
   "outputs": [
    {
     "name": "stdout",
     "output_type": "stream",
     "text": [
      "Odds ratio: 0.27325581395348836\n",
      "p-value: 0.17812087189573045\n"
     ]
    }
   ],
   "source": [
    "from scipy.stats import fisher_exact\n",
    "\n",
    "\n",
    "#Differentiation: p-value:0.178\n",
    "#Based on the information provided, it appears that you are trying to compare\n",
    "#two groups (low and high) based on a binary outcome (HER2 status) and determine\n",
    "#if there is a statistically significant difference between the groups. Given that\n",
    "#the outcome is binary and the sample sizes are relatively small, a Fisher's exact\n",
    "#test would be appropriate for this analysis.\n",
    "\n",
    "# Define the contingency table\n",
    "low_her2_neg = 47\n",
    "low_her2_pos = 8\n",
    "high_her2_neg = 43\n",
    "high_her2_pos = 2\n",
    "\n",
    "contingency_table = [[low_her2_neg, low_her2_pos], [high_her2_neg, high_her2_pos]]\n",
    "\n",
    "# Perform the Fisher's exact test\n",
    "odds_ratio, p_value = fisher_exact(contingency_table)\n",
    "\n",
    "print(\"Odds ratio:\", odds_ratio)\n",
    "print(\"p-value:\", p_value)"
   ]
  },
  {
   "cell_type": "code",
   "execution_count": 16,
   "id": "2595764f",
   "metadata": {},
   "outputs": [
    {
     "name": "stdout",
     "output_type": "stream",
     "text": [
      "Chi-squared statistic: 1.092336576207544\n",
      "P-value: 0.29595407843469823\n"
     ]
    }
   ],
   "source": [
    "\n",
    "# Advanced tumor, p-value:0.295\n",
    "#Based on the given data, we can use the chi-squared test to determine whether there\n",
    "#is a significant association between HER2 status and tumor advancement.\n",
    "\n",
    "# create a contingency table\n",
    "obs = np.array([[5, 2], [85, 8]])\n",
    "\n",
    "# perform the chi-squared test\n",
    "chi2, pval, dof, expected = chi2_contingency(obs)\n",
    "\n",
    "print(\"Chi-squared statistic:\", chi2)\n",
    "print(\"P-value:\", pval)"
   ]
  },
  {
   "cell_type": "code",
   "execution_count": 17,
   "id": "83c6a53a",
   "metadata": {},
   "outputs": [
    {
     "name": "stdout",
     "output_type": "stream",
     "text": [
      "Chi-square statistic: 0.1736111111111111\n",
      "P-value: 0.6769222390213792\n"
     ]
    }
   ],
   "source": [
    "# Age p-value:0.676\n",
    "#we have two groups of patients (age <50 and age >50) and two subgroups within each group\n",
    "#based on their HER2 status. To test whether there is a significant association between \n",
    "#age and HER2 status, we can use a chi-square test for independence.\n",
    "# create the contingency table\n",
    "observed = np.array([[73, 7], [17, 3]])\n",
    "\n",
    "# perform the chi-square test\n",
    "chi2, p_value, dof, expected = chi2_contingency(observed)\n",
    "\n",
    "print(\"Chi-square statistic:\", chi2)\n",
    "print(\"P-value:\", p_value)"
   ]
  },
  {
   "cell_type": "code",
   "execution_count": 18,
   "id": "ea9b555e",
   "metadata": {},
   "outputs": [
    {
     "name": "stdout",
     "output_type": "stream",
     "text": [
      "Chi-square statistic: 1.9608\n",
      "P-value: 0.3752\n"
     ]
    }
   ],
   "source": [
    "# Diagnostic Age,  p-value:0.375\n",
    "#it seems like a contingency table with two variables: age group (<50 or >50) and\n",
    "#HER2 status (HER2- or HER2+). To test for the association between age and HER2 status,\n",
    "#we can perform a chi-square test of independence.\n",
    "# create the contingency table\n",
    "obs = [[78, 7, 85], [12, 3, 15]]\n",
    "\n",
    "# perform the chi-square test\n",
    "chi2, pval, dof, exp = chi2_contingency(obs)\n",
    "\n",
    "print(f\"Chi-square statistic: {chi2:.4f}\")\n",
    "print(f\"P-value: {pval:.4f}\")"
   ]
  },
  {
   "cell_type": "code",
   "execution_count": 19,
   "id": "6e4b84fc",
   "metadata": {},
   "outputs": [
    {
     "name": "stdout",
     "output_type": "stream",
     "text": [
      "Chi-square test statistic: 4.395604395604396\n",
      "p-value: 0.03603168621823353\n"
     ]
    }
   ],
   "source": [
    "# Tumor location, p-value:0.036\n",
    "# create a contingency table\n",
    "obs = np.array([[28, 7],[62, 3]])\n",
    "\n",
    "# perform the chi-square test\n",
    "chi2, pval, dof, exp = chi2_contingency(obs)\n",
    "\n",
    "print(\"Chi-square test statistic:\", chi2)\n",
    "print(\"p-value:\", pval)"
   ]
  }
 ],
 "metadata": {
  "kernelspec": {
   "display_name": "Python 3 (ipykernel)",
   "language": "python",
   "name": "python3"
  },
  "language_info": {
   "codemirror_mode": {
    "name": "ipython",
    "version": 3
   },
   "file_extension": ".py",
   "mimetype": "text/x-python",
   "name": "python",
   "nbconvert_exporter": "python",
   "pygments_lexer": "ipython3",
   "version": "3.10.9"
  }
 },
 "nbformat": 4,
 "nbformat_minor": 5
}
